{
  "nbformat": 4,
  "nbformat_minor": 0,
  "metadata": {
    "orig_nbformat": 2,
    "kernelspec": {
      "name": "python3",
      "display_name": "Python 3",
      "language": "python"
    },
    "colab": {
      "name": "Whole Dialogue Approach.ipynb",
      "provenance": [],
      "collapsed_sections": [
        "UNHVxqaWiFvh"
      ],
      "toc_visible": true
    },
    "accelerator": "GPU"
  },
  "cells": [
    {
      "cell_type": "code",
      "metadata": {
        "colab": {
          "base_uri": "https://localhost:8080/"
        },
        "id": "IBWJRscyoAL0",
        "outputId": "c54310c7-b482-46c8-8bf3-41537eae383c"
      },
      "source": [
        "from google.colab import drive\n",
        "drive.mount('/content/drive')"
      ],
      "execution_count": 30,
      "outputs": [
        {
          "output_type": "stream",
          "text": [
            "Drive already mounted at /content/drive; to attempt to forcibly remount, call drive.mount(\"/content/drive\", force_remount=True).\n"
          ],
          "name": "stdout"
        }
      ]
    },
    {
      "cell_type": "code",
      "metadata": {
        "colab": {
          "base_uri": "https://localhost:8080/"
        },
        "id": "K99j5SmmN0is",
        "outputId": "ff75d26a-26c8-440e-8684-505787c24323"
      },
      "source": [
        "%cd drive/MyDrive/task"
      ],
      "execution_count": 31,
      "outputs": [
        {
          "output_type": "stream",
          "text": [
            "[Errno 2] No such file or directory: 'drive/MyDrive/task'\n",
            "/content/drive/MyDrive/task\n"
          ],
          "name": "stdout"
        }
      ]
    },
    {
      "cell_type": "code",
      "metadata": {
        "colab": {
          "base_uri": "https://localhost:8080/"
        },
        "id": "yKk4AtCrn2Qb",
        "outputId": "e1d085b9-1ebf-44b6-edb7-da44e92d8f50"
      },
      "source": [
        "import numpy as np\n",
        "import nltk\n",
        "\n",
        "nltk.download('punkt')\n",
        "nltk.download('averaged_perceptron_tagger')\n",
        "nltk.download('wordnet')\n",
        "\n",
        "from tensorflow import keras\n",
        "\n",
        "from Datasets import SequenceDataset\n",
        "from models import SequenceModel\n",
        "from utility import top_k_metric"
      ],
      "execution_count": 32,
      "outputs": [
        {
          "output_type": "stream",
          "text": [
            "[nltk_data] Downloading package punkt to /root/nltk_data...\n",
            "[nltk_data]   Package punkt is already up-to-date!\n",
            "[nltk_data] Downloading package averaged_perceptron_tagger to\n",
            "[nltk_data]     /root/nltk_data...\n",
            "[nltk_data]   Package averaged_perceptron_tagger is already up-to-\n",
            "[nltk_data]       date!\n",
            "[nltk_data] Downloading package wordnet to /root/nltk_data...\n",
            "[nltk_data]   Package wordnet is already up-to-date!\n"
          ],
          "name": "stdout"
        }
      ]
    },
    {
      "cell_type": "code",
      "metadata": {
        "id": "7FOHzZ-Gn2Qk"
      },
      "source": [
        "train_ds = SequenceDataset(mode=\"train\", tag_func=nltk.pos_tag_sents)\n",
        "val_ds = SequenceDataset(mode=\"valid\", tag_func=nltk.pos_tag_sents, input_tokenizer=train_ds.input_tokenizer, target_tokenizer=train_ds.target_tokenizer)\n",
        "test_ds = SequenceDataset(mode=\"test\", tag_func=nltk.pos_tag_sents, input_tokenizer=train_ds.input_tokenizer, target_tokenizer=train_ds.target_tokenizer)"
      ],
      "execution_count": 33,
      "outputs": []
    },
    {
      "cell_type": "code",
      "metadata": {
        "id": "vEHdCyBYtHWp",
        "colab": {
          "base_uri": "https://localhost:8080/"
        },
        "outputId": "62846ce7-996c-4bbb-d4ee-be6151977a2e"
      },
      "source": [
        "train_data, train_labels = train_ds.get_data_target(whole_dialog=True)\n",
        "val_data, val_labels = val_ds.get_data_target(whole_dialog=True)\n",
        "test_data, test_labels = test_ds.get_data_target(whole_dialog=True)"
      ],
      "execution_count": 34,
      "outputs": [
        {
          "output_type": "stream",
          "text": [
            "finished loading corpus\n",
            "finished loading descriptions\n",
            "finished extracting contexts\n",
            "finished extracting targets (OOCs)\n",
            "finished loading corpus\n",
            "finished loading descriptions\n",
            "finished extracting contexts\n",
            "finished extracting targets (OOCs)\n",
            "finished loading corpus\n",
            "finished loading descriptions\n",
            "finished extracting contexts\n",
            "finished extracting targets (OOCs)\n"
          ],
          "name": "stdout"
        }
      ]
    },
    {
      "cell_type": "markdown",
      "metadata": {
        "id": "Y9JRoBG0NnUd"
      },
      "source": [
        "## Model"
      ]
    },
    {
      "cell_type": "code",
      "metadata": {
        "id": "I91mzsAOReHx"
      },
      "source": [
        "import tensorflow as tf\n",
        "from sklearn.utils.class_weight import compute_class_weight\n",
        "import tensorflow.keras.backend as K"
      ],
      "execution_count": 35,
      "outputs": []
    },
    {
      "cell_type": "code",
      "metadata": {
        "id": "xD-hFNiqaBgl"
      },
      "source": [
        "def calculating_class_weights(y_true):\n",
        "    number_dim = np.shape(y_true)[1]\n",
        "    weights = np.zeros([number_dim, 2])\n",
        "    for i in range(1, number_dim):\n",
        "        weights[i] = compute_class_weight('balanced', [0.,1.], y_true[:, i])\n",
        "    return weights\n",
        "\n",
        "def get_weighted_loss(weights):\n",
        "    def weighted_loss(y_true, y_pred):\n",
        "        return K.mean((weights[:,0]**(1-y_true))*(weights[:,1]**(y_true))*K.binary_crossentropy(y_true, y_pred), axis=-1)\n",
        "    return weighted_loss\n",
        "\n",
        "class_weights = calculating_class_weights(train_labels)"
      ],
      "execution_count": 36,
      "outputs": []
    },
    {
      "cell_type": "code",
      "metadata": {
        "id": "fCySOgtrNnUd"
      },
      "source": [
        "model = SequenceModel(whole_dialog=True)\n",
        "model.build_model(\n",
        "        len(train_ds.input_tokenizer.word_index) + 1,\n",
        "        512,\n",
        "        train_labels.shape[-1],\n",
        "        (train_data.shape[1],),\n",
        "        loss=get_weighted_loss(class_weights),\n",
        "        metrics=[\n",
        "            keras.metrics.Precision(name='precision', top_k=5),\n",
        "            keras.metrics.Recall(name='recall', top_k=5),\n",
        "        ],\n",
        "        hidden_sizes=[1024, 1024])"
      ],
      "execution_count": 37,
      "outputs": []
    },
    {
      "cell_type": "code",
      "metadata": {
        "id": "_MZHYa-9n2Ql",
        "colab": {
          "base_uri": "https://localhost:8080/"
        },
        "outputId": "bb963beb-80d5-4839-dc71-8fee862161d4"
      },
      "source": [
        "model.train(train_data, train_labels, val_data=val_data, val_labels=val_labels, batch_size=32, epochs=20)"
      ],
      "execution_count": 38,
      "outputs": [
        {
          "output_type": "stream",
          "text": [
            "Epoch 1/20\n",
            "270/270 [==============================] - 234s 853ms/step - loss: 0.6870 - precision: 2.5741e-04 - recall: 5.9376e-04 - val_loss: 0.6210 - val_precision: 0.0015 - val_recall: 0.0036\n",
            "Epoch 2/20\n",
            "270/270 [==============================] - 230s 852ms/step - loss: 0.6875 - precision: 0.0017 - recall: 0.0038 - val_loss: 0.6210 - val_precision: 0.0019 - val_recall: 0.0045\n",
            "Epoch 3/20\n",
            "270/270 [==============================] - 228s 844ms/step - loss: 0.7021 - precision: 0.0014 - recall: 0.0032 - val_loss: 0.6210 - val_precision: 0.0026 - val_recall: 0.0064\n",
            "Epoch 4/20\n",
            "270/270 [==============================] - 228s 845ms/step - loss: 0.6895 - precision: 0.0019 - recall: 0.0044 - val_loss: 0.6210 - val_precision: 0.0026 - val_recall: 0.0064\n",
            "Epoch 5/20\n",
            "270/270 [==============================] - 230s 851ms/step - loss: 0.7027 - precision: 0.0018 - recall: 0.0043 - val_loss: 0.6211 - val_precision: 0.0019 - val_recall: 0.0045\n",
            "Epoch 6/20\n",
            "270/270 [==============================] - 230s 852ms/step - loss: 0.6908 - precision: 0.0027 - recall: 0.0062 - val_loss: 0.6210 - val_precision: 3.7665e-04 - val_recall: 9.0992e-04\n",
            "Epoch 7/20\n",
            "270/270 [==============================] - 228s 844ms/step - loss: 0.6897 - precision: 0.0012 - recall: 0.0029 - val_loss: 0.6211 - val_precision: 5.6497e-04 - val_recall: 0.0014\n",
            "Epoch 8/20\n",
            "270/270 [==============================] - 228s 844ms/step - loss: 0.6844 - precision: 0.0022 - recall: 0.0051 - val_loss: 0.6211 - val_precision: 7.5330e-04 - val_recall: 0.0018\n",
            "Epoch 9/20\n",
            "270/270 [==============================] - 229s 850ms/step - loss: 0.6944 - precision: 9.5137e-04 - recall: 0.0022 - val_loss: 0.6211 - val_precision: 0.0019 - val_recall: 0.0045\n",
            "Epoch 10/20\n",
            "270/270 [==============================] - 229s 850ms/step - loss: 0.6865 - precision: 9.1978e-04 - recall: 0.0021 - val_loss: 0.6211 - val_precision: 0.0045 - val_recall: 0.0109\n",
            "Epoch 11/20\n",
            "270/270 [==============================] - 228s 844ms/step - loss: 0.6870 - precision: 0.0016 - recall: 0.0037 - val_loss: 0.6211 - val_precision: 7.5330e-04 - val_recall: 0.0018\n",
            "Epoch 12/20\n",
            "270/270 [==============================] - 228s 846ms/step - loss: 0.7120 - precision: 8.5802e-04 - recall: 0.0020 - val_loss: 0.6211 - val_precision: 0.0011 - val_recall: 0.0027\n",
            "Epoch 13/20\n",
            "270/270 [==============================] - 230s 851ms/step - loss: 0.6905 - precision: 0.0019 - recall: 0.0044 - val_loss: 0.6211 - val_precision: 0.0028 - val_recall: 0.0068\n",
            "Epoch 14/20\n",
            "270/270 [==============================] - 228s 845ms/step - loss: 0.6947 - precision: 0.0018 - recall: 0.0042 - val_loss: 0.6211 - val_precision: 3.7665e-04 - val_recall: 9.0992e-04\n",
            "Epoch 15/20\n",
            "270/270 [==============================] - 227s 842ms/step - loss: 0.6976 - precision: 8.3948e-04 - recall: 0.0019 - val_loss: 0.6211 - val_precision: 0.0011 - val_recall: 0.0027\n",
            "Epoch 16/20\n",
            "270/270 [==============================] - 227s 842ms/step - loss: 0.6888 - precision: 0.0020 - recall: 0.0046 - val_loss: 0.6211 - val_precision: 7.5330e-04 - val_recall: 0.0018\n",
            "Epoch 17/20\n",
            "270/270 [==============================] - 228s 844ms/step - loss: 0.6844 - precision: 8.6258e-04 - recall: 0.0020 - val_loss: 0.6211 - val_precision: 9.4162e-04 - val_recall: 0.0023\n",
            "Epoch 18/20\n",
            "270/270 [==============================] - 228s 846ms/step - loss: 0.6977 - precision: 0.0012 - recall: 0.0028 - val_loss: 0.6211 - val_precision: 0.0013 - val_recall: 0.0032\n",
            "Epoch 19/20\n",
            "270/270 [==============================] - 228s 843ms/step - loss: 0.6924 - precision: 0.0021 - recall: 0.0049 - val_loss: 0.6211 - val_precision: 9.4162e-04 - val_recall: 0.0023\n",
            "Epoch 20/20\n",
            "270/270 [==============================] - 228s 843ms/step - loss: 0.6957 - precision: 6.5361e-04 - recall: 0.0015 - val_loss: 0.6211 - val_precision: 0.0062 - val_recall: 0.0150\n"
          ],
          "name": "stdout"
        },
        {
          "output_type": "execute_result",
          "data": {
            "text/plain": [
              "<tensorflow.python.keras.callbacks.History at 0x7f7e23f31f98>"
            ]
          },
          "metadata": {
            "tags": []
          },
          "execution_count": 38
        }
      ]
    },
    {
      "cell_type": "markdown",
      "metadata": {
        "id": "7rwtNj6mNnUe"
      },
      "source": [
        "## Evaluation"
      ]
    },
    {
      "cell_type": "code",
      "metadata": {
        "id": "HI1OqwOYNnUe"
      },
      "source": [
        "train_pred = model.infer(train_data)\n",
        "val_pred = model.infer(val_data)\n",
        "test_pred = model.infer(test_data)"
      ],
      "execution_count": 39,
      "outputs": []
    },
    {
      "cell_type": "code",
      "metadata": {
        "id": "SVIIaIjjASYj",
        "colab": {
          "base_uri": "https://localhost:8080/"
        },
        "outputId": "4d6443e6-a781-487d-978a-fc881cdcd55b"
      },
      "source": [
        "for i in range(1, 11):\n",
        "    metric = top_k_metric(train_pred, train_labels, i)\n",
        "    print(f\"top {i}: \\nprecision: {metric[0]}\\nrecall: {metric[1]}\\nf1: {metric[2]}\")"
      ],
      "execution_count": 40,
      "outputs": [
        {
          "output_type": "stream",
          "text": [
            "top 1: \n",
            "precision: 0.00011611704598235021\n",
            "recall: 3.8705681994116735e-05\n",
            "f1: 5.8058522991175105e-05\n",
            "top 2: \n",
            "precision: 0.00023223409196470042\n",
            "recall: 0.0001644991484749961\n",
            "f1: 0.00019258436894633693\n",
            "top 3: \n",
            "precision: 0.0005031738659235176\n",
            "recall: 0.0005844557981111626\n",
            "f1: 0.0005407776067932465\n",
            "top 4: \n",
            "precision: 0.000841848583372039\n",
            "recall: 0.0014785570521752593\n",
            "f1: 0.001072847902746018\n",
            "top 5: \n",
            "precision: 0.004691128657686949\n",
            "recall: 0.010885143653374028\n",
            "f1: 0.00655658919099931\n",
            "top 6: \n",
            "precision: 0.0049156216132528255\n",
            "recall: 0.013608088381660142\n",
            "f1: 0.007222334336082069\n",
            "top 7: \n",
            "precision: 0.004263154402494857\n",
            "recall: 0.013801616791630725\n",
            "f1: 0.00651416203997324\n",
            "top 8: \n",
            "precision: 0.003875406409660938\n",
            "recall: 0.014255440913011744\n",
            "f1: 0.006094103171642029\n",
            "top 9: \n",
            "precision: 0.004218919337358724\n",
            "recall: 0.017415759847831377\n",
            "f1: 0.006792398941335704\n",
            "top 10: \n",
            "precision: 0.0038086391082210874\n",
            "recall: 0.01743898325702785\n",
            "f1: 0.006251880092612975\n"
          ],
          "name": "stdout"
        }
      ]
    },
    {
      "cell_type": "code",
      "metadata": {
        "colab": {
          "base_uri": "https://localhost:8080/"
        },
        "id": "Ool3-HM5NnUe",
        "outputId": "7d372871-8e93-4f50-d1c3-a4f05bbb3345"
      },
      "source": [
        "for i in range(1, 11):\n",
        "    metric = top_k_metric(val_pred, val_labels, i)\n",
        "    print(f\"top {i}: \\nprecision: {metric[0]}\\nrecall: {metric[1]}\\nf1: {metric[2]}\")"
      ],
      "execution_count": 41,
      "outputs": [
        {
          "output_type": "stream",
          "text": [
            "top 1: \n",
            "precision: 0.0\n",
            "recall: 0.0\n",
            "f1: nan\n"
          ],
          "name": "stdout"
        },
        {
          "output_type": "stream",
          "text": [
            "/content/drive/My Drive/task/utility.py:65: RuntimeWarning: invalid value encountered in double_scalars\n",
            "  f1 = 2 * (precision * recall) / (precision + recall)\n"
          ],
          "name": "stderr"
        },
        {
          "output_type": "stream",
          "text": [
            "top 2: \n",
            "precision: 0.0\n",
            "recall: 0.0\n",
            "f1: nan\n",
            "top 3: \n",
            "precision: 0.0\n",
            "recall: 0.0\n",
            "f1: nan\n",
            "top 4: \n",
            "precision: 0.0007062146892655367\n",
            "recall: 0.0018832391713747645\n",
            "f1: 0.0010272213662044169\n",
            "top 5: \n",
            "precision: 0.0062146892655367235\n",
            "recall: 0.014940364092906465\n",
            "f1: 0.00877801807239015\n",
            "top 6: \n",
            "precision: 0.006434400502197111\n",
            "recall: 0.01854990583804143\n",
            "f1: 0.009554599740699731\n",
            "top 7: \n",
            "precision: 0.005515200430454667\n",
            "recall: 0.01854990583804143\n",
            "f1: 0.008502472211958621\n",
            "top 8: \n",
            "precision: 0.0049435028248587575\n",
            "recall: 0.018863779033270557\n",
            "f1: 0.007834001839789356\n",
            "top 9: \n",
            "precision: 0.0051265955220757475\n",
            "recall: 0.021563088512241053\n",
            "f1: 0.008283742352801346\n",
            "top 10: \n",
            "precision: 0.004613935969868173\n",
            "recall: 0.021563088512241053\n",
            "f1: 0.007601376525897925\n"
          ],
          "name": "stdout"
        }
      ]
    },
    {
      "cell_type": "code",
      "metadata": {
        "colab": {
          "base_uri": "https://localhost:8080/"
        },
        "id": "jW9pOxveNnUe",
        "outputId": "b46be908-c1ae-41bb-d2f8-b43f75a41db0"
      },
      "source": [
        "for i in range(1, 11):\n",
        "    metric = top_k_metric(test_pred, test_labels, i)\n",
        "    print(f\"top {i}: \\nprecision: {metric[0]}\\nrecall: {metric[1]}\\nf1: {metric[2]}\")"
      ],
      "execution_count": 42,
      "outputs": [
        {
          "output_type": "stream",
          "text": [
            "top 1: \n",
            "precision: 0.0\n",
            "recall: 0.0\n",
            "f1: nan\n"
          ],
          "name": "stdout"
        },
        {
          "output_type": "stream",
          "text": [
            "/content/drive/My Drive/task/utility.py:65: RuntimeWarning: invalid value encountered in double_scalars\n",
            "  f1 = 2 * (precision * recall) / (precision + recall)\n"
          ],
          "name": "stderr"
        },
        {
          "output_type": "stream",
          "text": [
            "top 2: \n",
            "precision: 0.0\n",
            "recall: 0.0\n",
            "f1: nan\n",
            "top 3: \n",
            "precision: 0.0006277463904582548\n",
            "recall: 0.0005492780916509729\n",
            "f1: 0.0005858966310943711\n",
            "top 4: \n",
            "precision: 0.0014124293785310734\n",
            "recall: 0.003217200251098556\n",
            "f1: 0.0019630374413482717\n",
            "top 5: \n",
            "precision: 0.006026365348399247\n",
            "recall: 0.015756434400502197\n",
            "f1: 0.008718257650998333\n",
            "top 6: \n",
            "precision: 0.00549278091650973\n",
            "recall: 0.016933458882611427\n",
            "f1: 0.00829490638056543\n",
            "top 7: \n",
            "precision: 0.004708097928436911\n",
            "recall: 0.016933458882611427\n",
            "f1: 0.007367712349214543\n",
            "top 8: \n",
            "precision: 0.004119585687382297\n",
            "recall: 0.016933458882611427\n",
            "f1: 0.006626959309259037\n",
            "top 9: \n",
            "precision: 0.004917346725256329\n",
            "recall: 0.020652856246076583\n",
            "f1: 0.007943406248490993\n",
            "top 10: \n",
            "precision: 0.004425612052730698\n",
            "recall: 0.020652856246076583\n",
            "f1: 0.007289243380968208\n"
          ],
          "name": "stdout"
        }
      ]
    },
    {
      "cell_type": "code",
      "metadata": {
        "id": "C9RD9KG7P8WJ"
      },
      "source": [
        ""
      ],
      "execution_count": 42,
      "outputs": []
    }
  ]
}