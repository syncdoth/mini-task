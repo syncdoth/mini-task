{
  "nbformat": 4,
  "nbformat_minor": 0,
  "metadata": {
    "orig_nbformat": 2,
    "kernelspec": {
      "name": "python3",
      "display_name": "Python 3",
      "language": "python"
    },
    "colab": {
      "name": "BOW and TFIDF Approach.ipynb",
      "provenance": [],
      "collapsed_sections": [],
      "toc_visible": true
    },
    "accelerator": "GPU"
  },
  "cells": [
    {
      "cell_type": "code",
      "metadata": {
        "colab": {
          "base_uri": "https://localhost:8080/"
        },
        "id": "IBWJRscyoAL0",
        "outputId": "cf139ec0-d7b6-4315-fbf2-f624360e97f3"
      },
      "source": [
        "from google.colab import drive\n",
        "drive.mount('/content/drive')"
      ],
      "execution_count": 1,
      "outputs": [
        {
          "output_type": "stream",
          "text": [
            "Mounted at /content/drive\n"
          ],
          "name": "stdout"
        }
      ]
    },
    {
      "cell_type": "code",
      "metadata": {
        "colab": {
          "base_uri": "https://localhost:8080/"
        },
        "id": "N5PpJ00f25FJ",
        "outputId": "49a932c1-ef0e-454a-8d80-c0410da7c4d0"
      },
      "source": [
        "%cd drive/MyDrive/mini-task/"
      ],
      "execution_count": 2,
      "outputs": [
        {
          "output_type": "stream",
          "text": [
            "/content/drive/MyDrive/mini-task\n"
          ],
          "name": "stdout"
        }
      ]
    },
    {
      "cell_type": "code",
      "metadata": {
        "colab": {
          "base_uri": "https://localhost:8080/"
        },
        "id": "yKk4AtCrn2Qb",
        "outputId": "0541a56c-ced1-4692-bba5-08cbfcad9181"
      },
      "source": [
        "import numpy as np\n",
        "import nltk\n",
        "\n",
        "nltk.download('punkt')\n",
        "nltk.download('averaged_perceptron_tagger')\n",
        "nltk.download('wordnet')\n",
        "\n",
        "from tensorflow import keras\n",
        "\n",
        "from Datasets import SequenceDataset\n",
        "from models import SequenceModel\n",
        "from utility import top_k_metric, calculating_class_weights, get_weighted_loss"
      ],
      "execution_count": 3,
      "outputs": [
        {
          "output_type": "stream",
          "text": [
            "[nltk_data] Downloading package punkt to /root/nltk_data...\n",
            "[nltk_data]   Package punkt is already up-to-date!\n",
            "[nltk_data] Downloading package averaged_perceptron_tagger to\n",
            "[nltk_data]     /root/nltk_data...\n",
            "[nltk_data]   Package averaged_perceptron_tagger is already up-to-\n",
            "[nltk_data]       date!\n",
            "[nltk_data] Downloading package wordnet to /root/nltk_data...\n",
            "[nltk_data]   Package wordnet is already up-to-date!\n"
          ],
          "name": "stdout"
        }
      ]
    },
    {
      "cell_type": "code",
      "metadata": {
        "id": "7FOHzZ-Gn2Qk"
      },
      "source": [
        "train_ds = SequenceDataset(mode=\"train\", tag_func=nltk.pos_tag_sents)\n",
        "val_ds = SequenceDataset(mode=\"valid\", tag_func=nltk.pos_tag_sents, input_tokenizer=train_ds.input_tokenizer, target_tokenizer=train_ds.target_tokenizer)\n",
        "test_ds = SequenceDataset(mode=\"test\", tag_func=nltk.pos_tag_sents, input_tokenizer=train_ds.input_tokenizer, target_tokenizer=train_ds.target_tokenizer)"
      ],
      "execution_count": 4,
      "outputs": []
    },
    {
      "cell_type": "markdown",
      "metadata": {
        "id": "_raHPCmn5zGw"
      },
      "source": [
        "# TFIDF First"
      ]
    },
    {
      "cell_type": "code",
      "metadata": {
        "id": "vEHdCyBYtHWp",
        "colab": {
          "base_uri": "https://localhost:8080/"
        },
        "outputId": "e8768df3-8860-4c43-d7c9-34002d9c5056"
      },
      "source": [
        "train_data, train_labels = train_ds.get_data_target(whole_dialog=False, data_type=\"tfidf\")\n",
        "val_data, val_labels = val_ds.get_data_target(whole_dialog=False, data_type=\"tfidf\")\n",
        "test_data, test_labels = test_ds.get_data_target(whole_dialog=False, data_type=\"tfidf\")"
      ],
      "execution_count": 5,
      "outputs": [
        {
          "output_type": "stream",
          "text": [
            "finished loading corpus\n",
            "finished loading descriptions\n",
            "finished extracting contexts\n",
            "finished extracting targets (OOCs)\n",
            "finished loading corpus\n",
            "finished loading descriptions\n",
            "finished extracting contexts\n",
            "finished extracting targets (OOCs)\n",
            "finished loading corpus\n",
            "finished loading descriptions\n",
            "finished extracting contexts\n",
            "finished extracting targets (OOCs)\n"
          ],
          "name": "stdout"
        }
      ]
    },
    {
      "cell_type": "markdown",
      "metadata": {
        "id": "haz12Q1g2XL8"
      },
      "source": [
        "## Model"
      ]
    },
    {
      "cell_type": "code",
      "metadata": {
        "id": "P1hyeSoK2XL9"
      },
      "source": [
        "class_weights = calculating_class_weights(train_labels)"
      ],
      "execution_count": 6,
      "outputs": []
    },
    {
      "cell_type": "code",
      "metadata": {
        "id": "9NtyQNO32XL9"
      },
      "source": [
        "model = keras.Sequential([\n",
        "    keras.layers.Dense(1024, activation=\"relu\"),\n",
        "    keras.layers.Dense(1024, activation=\"relu\"),\n",
        "    keras.layers.Dense(1024, activation=\"relu\"),\n",
        "    keras.layers.Dense(train_labels.shape[-1], activation=\"sigmoid\"),\n",
        "])\n",
        "\n",
        "model.compile(optimizer=keras.optimizers.Adam(learning_rate=1e-5),\n",
        "              loss=get_weighted_loss(class_weights),\n",
        "              metrics=[\n",
        "                  keras.metrics.Precision(name=\"precision\", top_k=5),\n",
        "                  keras.metrics.Recall(name=\"recall\", top_k=5),\n",
        "              ])"
      ],
      "execution_count": 7,
      "outputs": []
    },
    {
      "cell_type": "code",
      "metadata": {
        "id": "_MZHYa-9n2Ql",
        "colab": {
          "base_uri": "https://localhost:8080/"
        },
        "outputId": "2c1c622b-8ba3-44fd-a4ae-048dcdd299ef"
      },
      "source": [
        "model.fit(train_data, train_labels, validation_data=(val_data, val_labels), batch_size=32, epochs=50)"
      ],
      "execution_count": 8,
      "outputs": [
        {
          "output_type": "stream",
          "text": [
            "Epoch 1/50\n",
            "270/270 [==============================] - 5s 13ms/step - loss: 0.7000 - precision: 0.0013 - recall: 0.0030 - val_loss: 0.6173 - val_precision: 0.0026 - val_recall: 0.0064\n",
            "Epoch 2/50\n",
            "270/270 [==============================] - 3s 11ms/step - loss: 0.6769 - precision: 0.0033 - recall: 0.0075 - val_loss: 0.6152 - val_precision: 0.0028 - val_recall: 0.0068\n",
            "Epoch 3/50\n",
            "270/270 [==============================] - 3s 11ms/step - loss: 0.6700 - precision: 0.0048 - recall: 0.0111 - val_loss: 0.6125 - val_precision: 0.0040 - val_recall: 0.0096\n",
            "Epoch 4/50\n",
            "270/270 [==============================] - 3s 11ms/step - loss: 0.6607 - precision: 0.0081 - recall: 0.0185 - val_loss: 0.6099 - val_precision: 0.0056 - val_recall: 0.0136\n",
            "Epoch 5/50\n",
            "270/270 [==============================] - 3s 11ms/step - loss: 0.6388 - precision: 0.0117 - recall: 0.0269 - val_loss: 0.6093 - val_precision: 0.0064 - val_recall: 0.0155\n",
            "Epoch 6/50\n",
            "270/270 [==============================] - 3s 11ms/step - loss: 0.6268 - precision: 0.0143 - recall: 0.0326 - val_loss: 0.6111 - val_precision: 0.0073 - val_recall: 0.0177\n",
            "Epoch 7/50\n",
            "270/270 [==============================] - 3s 11ms/step - loss: 0.5875 - precision: 0.0191 - recall: 0.0436 - val_loss: 0.6140 - val_precision: 0.0083 - val_recall: 0.0200\n",
            "Epoch 8/50\n",
            "270/270 [==============================] - 3s 11ms/step - loss: 0.5859 - precision: 0.0248 - recall: 0.0569 - val_loss: 0.6189 - val_precision: 0.0105 - val_recall: 0.0255\n",
            "Epoch 9/50\n",
            "270/270 [==============================] - 3s 10ms/step - loss: 0.5655 - precision: 0.0322 - recall: 0.0740 - val_loss: 0.6247 - val_precision: 0.0121 - val_recall: 0.0291\n",
            "Epoch 10/50\n",
            "270/270 [==============================] - 3s 11ms/step - loss: 0.5462 - precision: 0.0393 - recall: 0.0896 - val_loss: 0.6316 - val_precision: 0.0151 - val_recall: 0.0364\n",
            "Epoch 11/50\n",
            "270/270 [==============================] - 3s 11ms/step - loss: 0.5281 - precision: 0.0482 - recall: 0.1106 - val_loss: 0.6384 - val_precision: 0.0169 - val_recall: 0.0409\n",
            "Epoch 12/50\n",
            "270/270 [==============================] - 3s 11ms/step - loss: 0.5126 - precision: 0.0603 - recall: 0.1387 - val_loss: 0.6463 - val_precision: 0.0194 - val_recall: 0.0469\n",
            "Epoch 13/50\n",
            "270/270 [==============================] - 3s 10ms/step - loss: 0.5039 - precision: 0.0717 - recall: 0.1649 - val_loss: 0.6590 - val_precision: 0.0241 - val_recall: 0.0582\n",
            "Epoch 14/50\n",
            "270/270 [==============================] - 3s 10ms/step - loss: 0.4783 - precision: 0.0807 - recall: 0.1869 - val_loss: 0.6680 - val_precision: 0.0260 - val_recall: 0.0628\n",
            "Epoch 15/50\n",
            "270/270 [==============================] - 3s 10ms/step - loss: 0.4731 - precision: 0.0919 - recall: 0.2109 - val_loss: 0.6750 - val_precision: 0.0275 - val_recall: 0.0664\n",
            "Epoch 16/50\n",
            "270/270 [==============================] - 3s 10ms/step - loss: 0.4523 - precision: 0.1017 - recall: 0.2330 - val_loss: 0.6867 - val_precision: 0.0305 - val_recall: 0.0737\n",
            "Epoch 17/50\n",
            "270/270 [==============================] - 3s 11ms/step - loss: 0.4498 - precision: 0.1142 - recall: 0.2623 - val_loss: 0.7044 - val_precision: 0.0335 - val_recall: 0.0810\n",
            "Epoch 18/50\n",
            "270/270 [==============================] - 3s 11ms/step - loss: 0.4257 - precision: 0.1230 - recall: 0.2841 - val_loss: 0.7122 - val_precision: 0.0373 - val_recall: 0.0901\n",
            "Epoch 19/50\n",
            "270/270 [==============================] - 3s 10ms/step - loss: 0.4095 - precision: 0.1331 - recall: 0.3049 - val_loss: 0.7269 - val_precision: 0.0416 - val_recall: 0.1005\n",
            "Epoch 20/50\n",
            "270/270 [==============================] - 3s 10ms/step - loss: 0.4019 - precision: 0.1398 - recall: 0.3214 - val_loss: 0.7479 - val_precision: 0.0437 - val_recall: 0.1056\n",
            "Epoch 21/50\n",
            "270/270 [==============================] - 3s 10ms/step - loss: 0.3937 - precision: 0.1442 - recall: 0.3329 - val_loss: 0.7595 - val_precision: 0.0452 - val_recall: 0.1092\n",
            "Epoch 22/50\n",
            "270/270 [==============================] - 3s 10ms/step - loss: 0.3809 - precision: 0.1552 - recall: 0.3560 - val_loss: 0.7809 - val_precision: 0.0476 - val_recall: 0.1151\n",
            "Epoch 23/50\n",
            "270/270 [==============================] - 3s 10ms/step - loss: 0.3695 - precision: 0.1623 - recall: 0.3745 - val_loss: 0.7958 - val_precision: 0.0503 - val_recall: 0.1215\n",
            "Epoch 24/50\n",
            "270/270 [==============================] - 3s 10ms/step - loss: 0.3525 - precision: 0.1706 - recall: 0.3893 - val_loss: 0.8111 - val_precision: 0.0522 - val_recall: 0.1260\n",
            "Epoch 25/50\n",
            "270/270 [==============================] - 3s 10ms/step - loss: 0.3461 - precision: 0.1804 - recall: 0.4139 - val_loss: 0.8349 - val_precision: 0.0557 - val_recall: 0.1347\n",
            "Epoch 26/50\n",
            "270/270 [==============================] - 3s 10ms/step - loss: 0.3317 - precision: 0.1860 - recall: 0.4265 - val_loss: 0.8540 - val_precision: 0.0556 - val_recall: 0.1342\n",
            "Epoch 27/50\n",
            "270/270 [==============================] - 3s 11ms/step - loss: 0.3201 - precision: 0.1872 - recall: 0.4312 - val_loss: 0.8787 - val_precision: 0.0586 - val_recall: 0.1415\n",
            "Epoch 28/50\n",
            "270/270 [==============================] - 3s 11ms/step - loss: 0.3120 - precision: 0.1964 - recall: 0.4506 - val_loss: 0.9075 - val_precision: 0.0599 - val_recall: 0.1447\n",
            "Epoch 29/50\n",
            "270/270 [==============================] - 3s 10ms/step - loss: 0.3034 - precision: 0.1978 - recall: 0.4520 - val_loss: 0.9246 - val_precision: 0.0633 - val_recall: 0.1529\n",
            "Epoch 30/50\n",
            "270/270 [==============================] - 3s 11ms/step - loss: 0.2894 - precision: 0.2010 - recall: 0.4596 - val_loss: 0.9533 - val_precision: 0.0646 - val_recall: 0.1561\n",
            "Epoch 31/50\n",
            "270/270 [==============================] - 3s 10ms/step - loss: 0.2795 - precision: 0.2057 - recall: 0.4741 - val_loss: 0.9739 - val_precision: 0.0661 - val_recall: 0.1597\n",
            "Epoch 32/50\n",
            "270/270 [==============================] - 3s 10ms/step - loss: 0.2697 - precision: 0.2096 - recall: 0.4834 - val_loss: 0.9980 - val_precision: 0.0674 - val_recall: 0.1629\n",
            "Epoch 33/50\n",
            "270/270 [==============================] - 3s 11ms/step - loss: 0.2616 - precision: 0.2126 - recall: 0.4872 - val_loss: 1.0330 - val_precision: 0.0685 - val_recall: 0.1656\n",
            "Epoch 34/50\n",
            "270/270 [==============================] - 3s 10ms/step - loss: 0.2503 - precision: 0.2164 - recall: 0.4952 - val_loss: 1.0633 - val_precision: 0.0712 - val_recall: 0.1720\n",
            "Epoch 35/50\n",
            "270/270 [==============================] - 3s 10ms/step - loss: 0.2443 - precision: 0.2201 - recall: 0.5035 - val_loss: 1.0887 - val_precision: 0.0729 - val_recall: 0.1761\n",
            "Epoch 36/50\n",
            "270/270 [==============================] - 3s 10ms/step - loss: 0.2320 - precision: 0.2217 - recall: 0.5079 - val_loss: 1.1191 - val_precision: 0.0734 - val_recall: 0.1774\n",
            "Epoch 37/50\n",
            "270/270 [==============================] - 3s 10ms/step - loss: 0.2215 - precision: 0.2240 - recall: 0.5117 - val_loss: 1.1527 - val_precision: 0.0731 - val_recall: 0.1765\n",
            "Epoch 38/50\n",
            "270/270 [==============================] - 3s 11ms/step - loss: 0.2134 - precision: 0.2235 - recall: 0.5171 - val_loss: 1.1931 - val_precision: 0.0746 - val_recall: 0.1802\n",
            "Epoch 39/50\n",
            "270/270 [==============================] - 3s 10ms/step - loss: 0.2027 - precision: 0.2247 - recall: 0.5162 - val_loss: 1.2115 - val_precision: 0.0746 - val_recall: 0.1802\n",
            "Epoch 40/50\n",
            "270/270 [==============================] - 3s 10ms/step - loss: 0.1940 - precision: 0.2272 - recall: 0.5205 - val_loss: 1.2436 - val_precision: 0.0766 - val_recall: 0.1852\n",
            "Epoch 41/50\n",
            "270/270 [==============================] - 3s 10ms/step - loss: 0.1898 - precision: 0.2303 - recall: 0.5285 - val_loss: 1.3068 - val_precision: 0.0766 - val_recall: 0.1852\n",
            "Epoch 42/50\n",
            "270/270 [==============================] - 3s 10ms/step - loss: 0.1807 - precision: 0.2310 - recall: 0.5303 - val_loss: 1.3273 - val_precision: 0.0774 - val_recall: 0.1870\n",
            "Epoch 43/50\n",
            "270/270 [==============================] - 3s 10ms/step - loss: 0.1713 - precision: 0.2312 - recall: 0.5316 - val_loss: 1.3717 - val_precision: 0.0782 - val_recall: 0.1888\n",
            "Epoch 44/50\n",
            "270/270 [==============================] - 3s 10ms/step - loss: 0.1646 - precision: 0.2332 - recall: 0.5352 - val_loss: 1.3956 - val_precision: 0.0783 - val_recall: 0.1893\n",
            "Epoch 45/50\n",
            "270/270 [==============================] - 3s 10ms/step - loss: 0.1568 - precision: 0.2338 - recall: 0.5397 - val_loss: 1.4340 - val_precision: 0.0789 - val_recall: 0.1906\n",
            "Epoch 46/50\n",
            "270/270 [==============================] - 3s 10ms/step - loss: 0.1512 - precision: 0.2383 - recall: 0.5475 - val_loss: 1.4924 - val_precision: 0.0780 - val_recall: 0.1884\n",
            "Epoch 47/50\n",
            "270/270 [==============================] - 3s 10ms/step - loss: 0.1442 - precision: 0.2353 - recall: 0.5418 - val_loss: 1.5440 - val_precision: 0.0795 - val_recall: 0.1920\n",
            "Epoch 48/50\n",
            "270/270 [==============================] - 3s 10ms/step - loss: 0.1364 - precision: 0.2399 - recall: 0.5489 - val_loss: 1.5712 - val_precision: 0.0791 - val_recall: 0.1911\n",
            "Epoch 49/50\n",
            "270/270 [==============================] - 3s 10ms/step - loss: 0.1337 - precision: 0.2359 - recall: 0.5458 - val_loss: 1.6323 - val_precision: 0.0810 - val_recall: 0.1956\n",
            "Epoch 50/50\n",
            "270/270 [==============================] - 3s 10ms/step - loss: 0.1254 - precision: 0.2358 - recall: 0.5459 - val_loss: 1.6574 - val_precision: 0.0798 - val_recall: 0.1929\n"
          ],
          "name": "stdout"
        },
        {
          "output_type": "execute_result",
          "data": {
            "text/plain": [
              "<tensorflow.python.keras.callbacks.History at 0x7f006b044588>"
            ]
          },
          "metadata": {
            "tags": []
          },
          "execution_count": 8
        }
      ]
    },
    {
      "cell_type": "markdown",
      "metadata": {
        "id": "Sa35pfGV2XL9"
      },
      "source": [
        "## Evaluation"
      ]
    },
    {
      "cell_type": "code",
      "metadata": {
        "id": "7EA7ZFdy2XL-"
      },
      "source": [
        "train_pred = model.predict(train_data)\n",
        "val_pred = model.predict(val_data)\n",
        "test_pred = model.predict(test_data)"
      ],
      "execution_count": 9,
      "outputs": []
    },
    {
      "cell_type": "code",
      "metadata": {
        "id": "SVIIaIjjASYj",
        "colab": {
          "base_uri": "https://localhost:8080/"
        },
        "outputId": "baebac5a-8289-44c3-cab1-d09210daa1c0"
      },
      "source": [
        "for i in range(1, 11):\n",
        "    metric = top_k_metric(train_pred, train_labels, i)\n",
        "    print(f\"top {i}: \\nprecision: {metric[0]}\\nrecall: {metric[1]}\\nf1: {metric[2]}\")"
      ],
      "execution_count": 10,
      "outputs": [
        {
          "output_type": "stream",
          "text": [
            "top 1: \n",
            "precision: 0.5394797956339991\n",
            "recall: 0.2478263188776871\n",
            "f1: 0.33963229650206517\n",
            "top 2: \n",
            "precision: 0.41593125870877845\n",
            "recall: 0.38214114258281323\n",
            "f1: 0.39832086958939145\n",
            "top 3: \n",
            "precision: 0.334881560613098\n",
            "recall: 0.4615138422147544\n",
            "f1: 0.3881300047103156\n",
            "top 4: \n",
            "precision: 0.2810322805387831\n",
            "recall: 0.5164026244199071\n",
            "f1: 0.36398157721590374\n",
            "top 5: \n",
            "precision: 0.2423130515559684\n",
            "recall: 0.5565690510481677\n",
            "f1: 0.3376316598443542\n",
            "top 6: \n",
            "precision: 0.21377148165350673\n",
            "recall: 0.5892142742838854\n",
            "f1: 0.3137221488518724\n",
            "top 7: \n",
            "precision: 0.1919083007099728\n",
            "recall: 0.6171120712647357\n",
            "f1: 0.29277119105161264\n",
            "top 8: \n",
            "precision: 0.174480376219229\n",
            "recall: 0.6412225956152985\n",
            "f1: 0.27431740127562954\n",
            "top 9: \n",
            "precision: 0.16012540640966094\n",
            "recall: 0.6620259241478637\n",
            "f1: 0.257877512856475\n",
            "top 10: \n",
            "precision: 0.14779377612633535\n",
            "recall: 0.6789352963140769\n",
            "f1: 0.2427455729638494\n"
          ],
          "name": "stdout"
        }
      ]
    },
    {
      "cell_type": "code",
      "metadata": {
        "colab": {
          "base_uri": "https://localhost:8080/"
        },
        "id": "h08FSkWi2XL-",
        "outputId": "d412cc14-4cf2-47d3-f0d2-12d7897281e1"
      },
      "source": [
        "for i in range(1, 11):\n",
        "    metric = top_k_metric(val_pred, val_labels, i)\n",
        "    print(f\"top {i}: \\nprecision: {metric[0]}\\nrecall: {metric[1]}\\nf1: {metric[2]}\")"
      ],
      "execution_count": 11,
      "outputs": [
        {
          "output_type": "stream",
          "text": [
            "top 1: \n",
            "precision: 0.160075329566855\n",
            "recall: 0.07734303912647862\n",
            "f1: 0.10429447852760737\n",
            "top 2: \n",
            "precision: 0.1224105461393597\n",
            "recall: 0.11828935395814377\n",
            "f1: 0.1203146691346599\n",
            "top 3: \n",
            "precision: 0.1016949152542373\n",
            "recall: 0.14740673339399454\n",
            "f1: 0.12035661218424963\n",
            "top 4: \n",
            "precision: 0.08945386064030132\n",
            "recall: 0.17288444040036396\n",
            "f1: 0.1179025752404592\n",
            "top 5: \n",
            "precision: 0.07984934086629002\n",
            "recall: 0.19290263876251137\n",
            "f1: 0.11294619072988812\n",
            "top 6: \n",
            "precision: 0.07250470809792843\n",
            "recall: 0.21019108280254778\n",
            "f1: 0.10781796966161027\n",
            "top 7: \n",
            "precision: 0.06725854183481302\n",
            "recall: 0.22747952684258416\n",
            "f1: 0.10382059800664452\n",
            "top 8: \n",
            "precision: 0.06320621468926553\n",
            "recall: 0.2443130118289354\n",
            "f1: 0.10043014774639984\n",
            "top 9: \n",
            "precision: 0.05890353630466625\n",
            "recall: 0.25614194722474976\n",
            "f1: 0.0957808778496087\n",
            "top 10: \n",
            "precision: 0.05696798493408663\n",
            "recall: 0.2752502274795268\n",
            "f1: 0.09439850210641285\n"
          ],
          "name": "stdout"
        }
      ]
    },
    {
      "cell_type": "code",
      "metadata": {
        "colab": {
          "base_uri": "https://localhost:8080/"
        },
        "id": "KUyt0vJH2XL-",
        "outputId": "91bf8ee0-2f80-45d8-ff1b-420b5f2c486e"
      },
      "source": [
        "for i in range(1, 11):\n",
        "    metric = top_k_metric(test_pred, test_labels, i)\n",
        "    print(f\"top {i}: \\nprecision: {metric[0]}\\nrecall: {metric[1]}\\nf1: {metric[2]}\")"
      ],
      "execution_count": 12,
      "outputs": [
        {
          "output_type": "stream",
          "text": [
            "top 1: \n",
            "precision: 0.1440677966101695\n",
            "recall: 0.06737120211360634\n",
            "f1: 0.09180918091809182\n",
            "top 2: \n",
            "precision: 0.1224105461393597\n",
            "recall: 0.11448701012769705\n",
            "f1: 0.11831626848691694\n",
            "top 3: \n",
            "precision: 0.10326428123038292\n",
            "recall: 0.1448701012769705\n",
            "f1: 0.12057907275059555\n",
            "top 4: \n",
            "precision: 0.09157250470809793\n",
            "recall: 0.1712901805372083\n",
            "f1: 0.11934345758551926\n",
            "top 5: \n",
            "precision: 0.0839924670433145\n",
            "recall: 0.19638925583443417\n",
            "f1: 0.11766257749637253\n",
            "top 6: \n",
            "precision: 0.07689893283113622\n",
            "recall: 0.21576398062527521\n",
            "f1: 0.1133865555941224\n",
            "top 7: \n",
            "precision: 0.07021791767554479\n",
            "recall: 0.22985468956406868\n",
            "f1: 0.10757341576506954\n",
            "top 8: \n",
            "precision: 0.06450094161958568\n",
            "recall: 0.2413033905768384\n",
            "f1: 0.10179251416364818\n",
            "top 9: \n",
            "precision: 0.06172839506172839\n",
            "recall: 0.25979744605900484\n",
            "f1: 0.09975483980049032\n",
            "top 10: \n",
            "precision: 0.05847457627118644\n",
            "recall: 0.27344782034346105\n",
            "f1: 0.09634628810798232\n"
          ],
          "name": "stdout"
        }
      ]
    },
    {
      "cell_type": "markdown",
      "metadata": {
        "id": "kUuQ5OSr56GB"
      },
      "source": [
        "# BOW Now"
      ]
    },
    {
      "cell_type": "code",
      "metadata": {
        "colab": {
          "base_uri": "https://localhost:8080/"
        },
        "id": "dnhAHrGZ58Ya",
        "outputId": "d924b041-19d0-4b58-8ba9-d9bdff275261"
      },
      "source": [
        "train_data, train_labels = train_ds.get_data_target(whole_dialog=False, data_type=\"binary\")\n",
        "val_data, val_labels = val_ds.get_data_target(whole_dialog=False, data_type=\"binary\")\n",
        "test_data, test_labels = test_ds.get_data_target(whole_dialog=False, data_type=\"binary\")\n",
        "\n",
        "class_weights = calculating_class_weights(train_labels)\n",
        "\n",
        "model = keras.Sequential([\n",
        "    keras.layers.Dense(1024, activation=\"relu\"),\n",
        "    keras.layers.Dense(1024, activation=\"relu\"),\n",
        "    keras.layers.Dense(1024, activation=\"relu\"),\n",
        "    keras.layers.Dense(train_labels.shape[-1], activation=\"sigmoid\"),\n",
        "])\n",
        "\n",
        "model.compile(optimizer=keras.optimizers.Adam(learning_rate=1e-5),\n",
        "              loss=get_weighted_loss(class_weights),\n",
        "              metrics=[\n",
        "                  keras.metrics.Precision(name=\"precision\", top_k=5),\n",
        "                  keras.metrics.Recall(name=\"recall\", top_k=5),\n",
        "              ])\n",
        "\n",
        "model.fit(train_data, train_labels, validation_data=(val_data, val_labels), batch_size=32, epochs=50)"
      ],
      "execution_count": 13,
      "outputs": [
        {
          "output_type": "stream",
          "text": [
            "finished loading corpus\n",
            "finished loading descriptions\n",
            "finished extracting contexts\n",
            "finished extracting targets (OOCs)\n",
            "finished loading corpus\n",
            "finished loading descriptions\n",
            "finished extracting contexts\n",
            "finished extracting targets (OOCs)\n",
            "finished loading corpus\n",
            "finished loading descriptions\n",
            "finished extracting contexts\n",
            "finished extracting targets (OOCs)\n",
            "Epoch 1/50\n",
            "270/270 [==============================] - 4s 12ms/step - loss: 0.7049 - precision: 0.0016 - recall: 0.0036 - val_loss: 0.6202 - val_precision: 0.0026 - val_recall: 0.0064\n",
            "Epoch 2/50\n",
            "270/270 [==============================] - 3s 11ms/step - loss: 0.6932 - precision: 0.0037 - recall: 0.0085 - val_loss: 0.6196 - val_precision: 0.0040 - val_recall: 0.0096\n",
            "Epoch 3/50\n",
            "270/270 [==============================] - 3s 11ms/step - loss: 0.6934 - precision: 0.0058 - recall: 0.0133 - val_loss: 0.6186 - val_precision: 0.0038 - val_recall: 0.0091\n",
            "Epoch 4/50\n",
            "270/270 [==============================] - 3s 10ms/step - loss: 0.6851 - precision: 0.0088 - recall: 0.0202 - val_loss: 0.6170 - val_precision: 0.0053 - val_recall: 0.0127\n",
            "Epoch 5/50\n",
            "270/270 [==============================] - 3s 11ms/step - loss: 0.6723 - precision: 0.0113 - recall: 0.0259 - val_loss: 0.6148 - val_precision: 0.0064 - val_recall: 0.0155\n",
            "Epoch 6/50\n",
            "270/270 [==============================] - 3s 11ms/step - loss: 0.6699 - precision: 0.0122 - recall: 0.0281 - val_loss: 0.6123 - val_precision: 0.0089 - val_recall: 0.0214\n",
            "Epoch 7/50\n",
            "270/270 [==============================] - 3s 10ms/step - loss: 0.6673 - precision: 0.0162 - recall: 0.0372 - val_loss: 0.6101 - val_precision: 0.0121 - val_recall: 0.0291\n",
            "Epoch 8/50\n",
            "270/270 [==============================] - 3s 10ms/step - loss: 0.6674 - precision: 0.0174 - recall: 0.0399 - val_loss: 0.6082 - val_precision: 0.0154 - val_recall: 0.0373\n",
            "Epoch 9/50\n",
            "270/270 [==============================] - 3s 11ms/step - loss: 0.6444 - precision: 0.0194 - recall: 0.0447 - val_loss: 0.6069 - val_precision: 0.0168 - val_recall: 0.0405\n",
            "Epoch 10/50\n",
            "270/270 [==============================] - 3s 10ms/step - loss: 0.6484 - precision: 0.0232 - recall: 0.0530 - val_loss: 0.6057 - val_precision: 0.0211 - val_recall: 0.0510\n",
            "Epoch 11/50\n",
            "270/270 [==============================] - 3s 10ms/step - loss: 0.6368 - precision: 0.0286 - recall: 0.0656 - val_loss: 0.6049 - val_precision: 0.0239 - val_recall: 0.0578\n",
            "Epoch 12/50\n",
            "270/270 [==============================] - 3s 10ms/step - loss: 0.6381 - precision: 0.0325 - recall: 0.0744 - val_loss: 0.6041 - val_precision: 0.0288 - val_recall: 0.0696\n",
            "Epoch 13/50\n",
            "270/270 [==============================] - 3s 10ms/step - loss: 0.6220 - precision: 0.0381 - recall: 0.0868 - val_loss: 0.6036 - val_precision: 0.0318 - val_recall: 0.0769\n",
            "Epoch 14/50\n",
            "270/270 [==============================] - 3s 11ms/step - loss: 0.6151 - precision: 0.0450 - recall: 0.1023 - val_loss: 0.6037 - val_precision: 0.0356 - val_recall: 0.0860\n",
            "Epoch 15/50\n",
            "270/270 [==============================] - 3s 11ms/step - loss: 0.6026 - precision: 0.0465 - recall: 0.1075 - val_loss: 0.6041 - val_precision: 0.0373 - val_recall: 0.0901\n",
            "Epoch 16/50\n",
            "270/270 [==============================] - 3s 10ms/step - loss: 0.5954 - precision: 0.0495 - recall: 0.1131 - val_loss: 0.6045 - val_precision: 0.0411 - val_recall: 0.0992\n",
            "Epoch 17/50\n",
            "270/270 [==============================] - 3s 10ms/step - loss: 0.5888 - precision: 0.0533 - recall: 0.1231 - val_loss: 0.6051 - val_precision: 0.0437 - val_recall: 0.1056\n",
            "Epoch 18/50\n",
            "270/270 [==============================] - 3s 10ms/step - loss: 0.5735 - precision: 0.0581 - recall: 0.1343 - val_loss: 0.6060 - val_precision: 0.0463 - val_recall: 0.1119\n",
            "Epoch 19/50\n",
            "270/270 [==============================] - 3s 11ms/step - loss: 0.5712 - precision: 0.0627 - recall: 0.1433 - val_loss: 0.6090 - val_precision: 0.0486 - val_recall: 0.1174\n",
            "Epoch 20/50\n",
            "270/270 [==============================] - 3s 10ms/step - loss: 0.5493 - precision: 0.0659 - recall: 0.1496 - val_loss: 0.6104 - val_precision: 0.0514 - val_recall: 0.1242\n",
            "Epoch 21/50\n",
            "270/270 [==============================] - 3s 10ms/step - loss: 0.5576 - precision: 0.0703 - recall: 0.1610 - val_loss: 0.6162 - val_precision: 0.0540 - val_recall: 0.1306\n",
            "Epoch 22/50\n",
            "270/270 [==============================] - 3s 11ms/step - loss: 0.5355 - precision: 0.0719 - recall: 0.1650 - val_loss: 0.6184 - val_precision: 0.0574 - val_recall: 0.1388\n",
            "Epoch 23/50\n",
            "270/270 [==============================] - 3s 11ms/step - loss: 0.5332 - precision: 0.0762 - recall: 0.1763 - val_loss: 0.6193 - val_precision: 0.0597 - val_recall: 0.1442\n",
            "Epoch 24/50\n",
            "270/270 [==============================] - 3s 10ms/step - loss: 0.5268 - precision: 0.0785 - recall: 0.1803 - val_loss: 0.6271 - val_precision: 0.0610 - val_recall: 0.1474\n",
            "Epoch 25/50\n",
            "270/270 [==============================] - 3s 10ms/step - loss: 0.5103 - precision: 0.0810 - recall: 0.1875 - val_loss: 0.6318 - val_precision: 0.0627 - val_recall: 0.1515\n",
            "Epoch 26/50\n",
            "270/270 [==============================] - 3s 10ms/step - loss: 0.5100 - precision: 0.0840 - recall: 0.1923 - val_loss: 0.6379 - val_precision: 0.0650 - val_recall: 0.1570\n",
            "Epoch 27/50\n",
            "270/270 [==============================] - 3s 11ms/step - loss: 0.4934 - precision: 0.0879 - recall: 0.2029 - val_loss: 0.6428 - val_precision: 0.0669 - val_recall: 0.1615\n",
            "Epoch 28/50\n",
            "270/270 [==============================] - 3s 10ms/step - loss: 0.4876 - precision: 0.0901 - recall: 0.2064 - val_loss: 0.6529 - val_precision: 0.0676 - val_recall: 0.1633\n",
            "Epoch 29/50\n",
            "270/270 [==============================] - 3s 10ms/step - loss: 0.4847 - precision: 0.0930 - recall: 0.2142 - val_loss: 0.6572 - val_precision: 0.0695 - val_recall: 0.1679\n",
            "Epoch 30/50\n",
            "270/270 [==============================] - 3s 10ms/step - loss: 0.4724 - precision: 0.0950 - recall: 0.2189 - val_loss: 0.6687 - val_precision: 0.0706 - val_recall: 0.1706\n",
            "Epoch 31/50\n",
            "270/270 [==============================] - 3s 11ms/step - loss: 0.4676 - precision: 0.0969 - recall: 0.2226 - val_loss: 0.6731 - val_precision: 0.0685 - val_recall: 0.1656\n",
            "Epoch 32/50\n",
            "270/270 [==============================] - 3s 11ms/step - loss: 0.4550 - precision: 0.0994 - recall: 0.2287 - val_loss: 0.6851 - val_precision: 0.0693 - val_recall: 0.1674\n",
            "Epoch 33/50\n",
            "270/270 [==============================] - 3s 10ms/step - loss: 0.4621 - precision: 0.0981 - recall: 0.2259 - val_loss: 0.7000 - val_precision: 0.0687 - val_recall: 0.1661\n",
            "Epoch 34/50\n",
            "270/270 [==============================] - 3s 10ms/step - loss: 0.4518 - precision: 0.1026 - recall: 0.2327 - val_loss: 0.7060 - val_precision: 0.0693 - val_recall: 0.1674\n",
            "Epoch 35/50\n",
            "270/270 [==============================] - 3s 10ms/step - loss: 0.4216 - precision: 0.1004 - recall: 0.2330 - val_loss: 0.7177 - val_precision: 0.0682 - val_recall: 0.1647\n",
            "Epoch 36/50\n",
            "270/270 [==============================] - 3s 10ms/step - loss: 0.4146 - precision: 0.0999 - recall: 0.2317 - val_loss: 0.7277 - val_precision: 0.0695 - val_recall: 0.1679\n",
            "Epoch 37/50\n",
            "270/270 [==============================] - 3s 10ms/step - loss: 0.4008 - precision: 0.1027 - recall: 0.2375 - val_loss: 0.7373 - val_precision: 0.0693 - val_recall: 0.1674\n",
            "Epoch 38/50\n",
            "270/270 [==============================] - 3s 11ms/step - loss: 0.4037 - precision: 0.1039 - recall: 0.2384 - val_loss: 0.7555 - val_precision: 0.0693 - val_recall: 0.1674\n",
            "Epoch 39/50\n",
            "270/270 [==============================] - 3s 10ms/step - loss: 0.3892 - precision: 0.1057 - recall: 0.2429 - val_loss: 0.7645 - val_precision: 0.0693 - val_recall: 0.1674\n",
            "Epoch 40/50\n",
            "270/270 [==============================] - 3s 10ms/step - loss: 0.3856 - precision: 0.1091 - recall: 0.2501 - val_loss: 0.7843 - val_precision: 0.0693 - val_recall: 0.1674\n",
            "Epoch 41/50\n",
            "270/270 [==============================] - 3s 11ms/step - loss: 0.3759 - precision: 0.1095 - recall: 0.2528 - val_loss: 0.7986 - val_precision: 0.0685 - val_recall: 0.1656\n",
            "Epoch 42/50\n",
            "270/270 [==============================] - 3s 10ms/step - loss: 0.3686 - precision: 0.1092 - recall: 0.2513 - val_loss: 0.8157 - val_precision: 0.0695 - val_recall: 0.1679\n",
            "Epoch 43/50\n",
            "270/270 [==============================] - 3s 10ms/step - loss: 0.3548 - precision: 0.1083 - recall: 0.2488 - val_loss: 0.8287 - val_precision: 0.0680 - val_recall: 0.1642\n",
            "Epoch 44/50\n",
            "270/270 [==============================] - 3s 10ms/step - loss: 0.3522 - precision: 0.1122 - recall: 0.2584 - val_loss: 0.8550 - val_precision: 0.0704 - val_recall: 0.1702\n",
            "Epoch 45/50\n",
            "270/270 [==============================] - 3s 10ms/step - loss: 0.3452 - precision: 0.1120 - recall: 0.2566 - val_loss: 0.8689 - val_precision: 0.0697 - val_recall: 0.1683\n",
            "Epoch 46/50\n",
            "270/270 [==============================] - 3s 11ms/step - loss: 0.3371 - precision: 0.1144 - recall: 0.2641 - val_loss: 0.8903 - val_precision: 0.0695 - val_recall: 0.1679\n",
            "Epoch 47/50\n",
            "270/270 [==============================] - 3s 10ms/step - loss: 0.3314 - precision: 0.1169 - recall: 0.2684 - val_loss: 0.9136 - val_precision: 0.0701 - val_recall: 0.1692\n",
            "Epoch 48/50\n",
            "270/270 [==============================] - 3s 10ms/step - loss: 0.3140 - precision: 0.1202 - recall: 0.2746 - val_loss: 0.9359 - val_precision: 0.0704 - val_recall: 0.1702\n",
            "Epoch 49/50\n",
            "270/270 [==============================] - 3s 10ms/step - loss: 0.3038 - precision: 0.1207 - recall: 0.2772 - val_loss: 0.9524 - val_precision: 0.0708 - val_recall: 0.1711\n",
            "Epoch 50/50\n",
            "270/270 [==============================] - 3s 10ms/step - loss: 0.3018 - precision: 0.1219 - recall: 0.2797 - val_loss: 0.9714 - val_precision: 0.0680 - val_recall: 0.1642\n"
          ],
          "name": "stdout"
        },
        {
          "output_type": "execute_result",
          "data": {
            "text/plain": [
              "<tensorflow.python.keras.callbacks.History at 0x7f001536bb00>"
            ]
          },
          "metadata": {
            "tags": []
          },
          "execution_count": 13
        }
      ]
    },
    {
      "cell_type": "code",
      "metadata": {
        "id": "YAtFX5w66IkB"
      },
      "source": [
        "train_pred = model.predict(train_data)\n",
        "val_pred = model.predict(val_data)\n",
        "test_pred = model.predict(test_data)"
      ],
      "execution_count": 14,
      "outputs": []
    },
    {
      "cell_type": "code",
      "metadata": {
        "colab": {
          "base_uri": "https://localhost:8080/"
        },
        "id": "q8LGpIcZ6NpW",
        "outputId": "772bc040-fe79-4187-d64d-144dad0f3f2d"
      },
      "source": [
        "for i in range(1, 11):\n",
        "    metric = top_k_metric(train_pred, train_labels, i)\n",
        "    print(f\"top {i}: \\nprecision: {metric[0]}\\nrecall: {metric[1]}\\nf1: {metric[2]}\")"
      ],
      "execution_count": 15,
      "outputs": [
        {
          "output_type": "stream",
          "text": [
            "top 1: \n",
            "precision: 0.22886669763121226\n",
            "recall: 0.10513682189150264\n",
            "f1: 0.1440842136042984\n",
            "top 2: \n",
            "precision: 0.1816651184393869\n",
            "recall: 0.16690670507281166\n",
            "f1: 0.17397347863556753\n",
            "top 3: \n",
            "precision: 0.15640966093822573\n",
            "recall: 0.2155544887181949\n",
            "f1: 0.18127986003633673\n",
            "top 4: \n",
            "precision: 0.13710520204366\n",
            "recall: 0.2519336427161679\n",
            "f1: 0.1775730801767083\n",
            "top 5: \n",
            "precision: 0.12296795169530887\n",
            "recall: 0.2824451912305969\n",
            "f1: 0.17133981587846037\n",
            "top 6: \n",
            "precision: 0.11154977550704444\n",
            "recall: 0.30746252733770735\n",
            "f1: 0.16370581803206524\n",
            "top 7: \n",
            "precision: 0.10349346426912613\n",
            "recall: 0.3327999146530112\n",
            "f1: 0.1578874112689957\n",
            "top 8: \n",
            "precision: 0.09666744078030655\n",
            "recall: 0.3552568410945751\n",
            "f1: 0.1519801923713246\n",
            "top 9: \n",
            "precision: 0.09048098260824688\n",
            "recall: 0.3740865205099483\n",
            "f1: 0.1457171056049036\n",
            "top 10: \n",
            "precision: 0.08553181607059916\n",
            "recall: 0.3929161999253214\n",
            "f1: 0.1404827066665395\n"
          ],
          "name": "stdout"
        }
      ]
    },
    {
      "cell_type": "code",
      "metadata": {
        "colab": {
          "base_uri": "https://localhost:8080/"
        },
        "id": "pkcQ_G7C6PQx",
        "outputId": "bd01d1ed-13d3-48ac-f6d1-a4eb24edbf19"
      },
      "source": [
        "for i in range(1, 11):\n",
        "    metric = top_k_metric(val_pred, val_labels, i)\n",
        "    print(f\"top {i}: \\nprecision: {metric[0]}\\nrecall: {metric[1]}\\nf1: {metric[2]}\")"
      ],
      "execution_count": 16,
      "outputs": [
        {
          "output_type": "stream",
          "text": [
            "top 1: \n",
            "precision: 0.12994350282485875\n",
            "recall: 0.06278434940855324\n",
            "f1: 0.08466257668711656\n",
            "top 2: \n",
            "precision: 0.1007532956685499\n",
            "recall: 0.09736123748862602\n",
            "f1: 0.09902822767237389\n",
            "top 3: \n",
            "precision: 0.08788449466415568\n",
            "recall: 0.12738853503184713\n",
            "f1: 0.10401188707280833\n",
            "top 4: \n",
            "precision: 0.0765065913370998\n",
            "recall: 0.14786169244767972\n",
            "f1: 0.10083772882407695\n",
            "top 5: \n",
            "precision: 0.067984934086629\n",
            "recall: 0.16424021838034578\n",
            "f1: 0.09616409163558871\n",
            "top 6: \n",
            "precision: 0.061833019460138104\n",
            "recall: 0.17925386715195632\n",
            "f1: 0.09194865810968494\n",
            "top 7: \n",
            "precision: 0.05743879472693032\n",
            "recall: 0.1942675159235669\n",
            "f1: 0.08866279069767444\n",
            "top 8: \n",
            "precision: 0.052848399246704335\n",
            "recall: 0.20427661510464057\n",
            "f1: 0.08397232092762298\n",
            "top 9: \n",
            "precision: 0.04938271604938271\n",
            "recall: 0.21474067333939945\n",
            "f1: 0.08029942157196325\n",
            "top 10: \n",
            "precision: 0.047080979284369114\n",
            "recall: 0.22747952684258416\n",
            "f1: 0.07801529099703543\n"
          ],
          "name": "stdout"
        }
      ]
    },
    {
      "cell_type": "code",
      "metadata": {
        "colab": {
          "base_uri": "https://localhost:8080/"
        },
        "id": "wtmg02vS6Py5",
        "outputId": "75f936f9-44c0-4fa2-882e-f773540a474e"
      },
      "source": [
        "for i in range(1, 11):\n",
        "    metric = top_k_metric(test_pred, test_labels, i)\n",
        "    print(f\"top {i}: \\nprecision: {metric[0]}\\nrecall: {metric[1]}\\nf1: {metric[2]}\")"
      ],
      "execution_count": 17,
      "outputs": [
        {
          "output_type": "stream",
          "text": [
            "top 1: \n",
            "precision: 0.11581920903954802\n",
            "recall: 0.05416116248348745\n",
            "f1: 0.0738073807380738\n",
            "top 2: \n",
            "precision: 0.10404896421845575\n",
            "recall: 0.09731395860854249\n",
            "f1: 0.1005688282138794\n",
            "top 3: \n",
            "precision: 0.0903954802259887\n",
            "recall: 0.12681638044914134\n",
            "f1: 0.10555250137438153\n",
            "top 4: \n",
            "precision: 0.07909604519774012\n",
            "recall: 0.14795244385733158\n",
            "f1: 0.10308329498389325\n",
            "top 5: \n",
            "precision: 0.0711864406779661\n",
            "recall: 0.166446499339498\n",
            "f1: 0.0997229916897507\n",
            "top 6: \n",
            "precision: 0.06528562460765851\n",
            "recall: 0.1831792162043153\n",
            "f1: 0.09626287168807128\n",
            "top 7: \n",
            "precision: 0.05905299973096583\n",
            "recall: 0.1933069132540731\n",
            "f1: 0.0904688304997424\n",
            "top 8: \n",
            "precision: 0.05520244821092279\n",
            "recall: 0.20651695288419197\n",
            "f1: 0.08711804588093248\n",
            "top 9: \n",
            "precision: 0.05252144800167399\n",
            "recall: 0.22104799647732276\n",
            "f1: 0.08487615183024769\n",
            "top 10: \n",
            "precision: 0.04962335216572505\n",
            "recall: 0.23205636283575518\n",
            "f1: 0.08176246994026841\n"
          ],
          "name": "stdout"
        }
      ]
    },
    {
      "cell_type": "code",
      "metadata": {
        "id": "kdzFdxha6S0a"
      },
      "source": [
        ""
      ],
      "execution_count": null,
      "outputs": []
    }
  ]
}